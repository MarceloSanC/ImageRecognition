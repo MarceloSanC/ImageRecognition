{
 "cells": [
  {
   "cell_type": "code",
   "execution_count": 21,
   "metadata": {},
   "outputs": [],
   "source": [
    "import os, cv2\n",
    "import tensorflow as tf\n",
    "import numpy as np\n",
    "from keras import utils"
   ]
  },
  {
   "cell_type": "code",
   "execution_count": 22,
   "metadata": {},
   "outputs": [],
   "source": [
    "def predict_image_class(image_path, model_path, class_names):\n",
    "    model = tf.keras.models.load_model(model_path)\n",
    "    \n",
    "    input_shape = model.layers[0].input_shape\n",
    "    input_shape = input_shape[1:3]\n",
    "    # input_shape = input_shape[0][1:3]\n",
    "\n",
    "    img = utils.load_img(image_path, target_size=input_shape)\n",
    "    img_array = utils.img_to_array(img)\n",
    "    img_array = np.expand_dims(img_array, axis=0)\n",
    "    # img_array = img_array / 255.0 \n",
    "\n",
    "\n",
    "    prediction = model.predict(tf.convert_to_tensor(img_array), verbose=0)\n",
    "    score = prediction[0]\n",
    "    predicted_class = class_names[np.argmax(score)]\n",
    "    confidence = 100 * np.max(score)\n",
    "\n",
    "    print(f\"Prediction: {predicted_class} | Confidence: {confidence:.2f}%.\\n\")\n",
    "\n",
    "    return"
   ]
  },
  {
   "cell_type": "code",
   "execution_count": 23,
   "metadata": {},
   "outputs": [],
   "source": [
    "def predict_dir_files(test_path, model_path):\n",
    "    with open('C:\\\\Users\\\\marce\\\\OneDrive\\\\Documentos\\\\Code\\\\Models\\\\EfficientNet\\\\Fine_215EffNet_8_384_classes', 'r') as file:\n",
    "        class_names = [line.strip() for line in file]\n",
    "    \n",
    "    image_files = os.listdir(test_path)\n",
    "    \n",
    "    for image in image_files:\n",
    "        image_path = os.path.join(test_path, image)\n",
    "        print(\"\\nImage :\",image)\n",
    "        predict_image_class(image_path, model_path, class_names)\n",
    "    \n",
    "    return"
   ]
  },
  {
   "cell_type": "code",
   "execution_count": 24,
   "metadata": {},
   "outputs": [],
   "source": [
    "test_path = \"C:\\\\Users\\\\marce\\\\OneDrive\\\\Documentos\\\\Code\\\\Dataset\\\\Test\"\n",
    "model_path = 'Fine_215EffNet_8_384'"
   ]
  },
  {
   "cell_type": "code",
   "execution_count": 7,
   "metadata": {},
   "outputs": [
    {
     "name": "stdout",
     "output_type": "stream",
     "text": [
      "\n",
      "Image : banana.jpg\n",
      "Prediction: banana | Confidence: 100.00%.\n",
      "\n",
      "\n",
      "Image : banana1.jpg\n",
      "Prediction: banana | Confidence: 100.00%.\n",
      "\n",
      "\n",
      "Image : banana2.jpg\n",
      "Prediction: banana | Confidence: 100.00%.\n",
      "\n",
      "\n",
      "Image : batata.jpg\n",
      "Prediction: batata | Confidence: 99.67%.\n",
      "\n",
      "\n",
      "Image : batata1.jpg\n",
      "WARNING:tensorflow:5 out of the last 5 calls to <function Model.make_predict_function.<locals>.predict_function at 0x00000279E3073D00> triggered tf.function retracing. Tracing is expensive and the excessive number of tracings could be due to (1) creating @tf.function repeatedly in a loop, (2) passing tensors with different shapes, (3) passing Python objects instead of tensors. For (1), please define your @tf.function outside of the loop. For (2), @tf.function has reduce_retracing=True option that can avoid unnecessary retracing. For (3), please refer to https://www.tensorflow.org/guide/function#controlling_retracing and https://www.tensorflow.org/api_docs/python/tf/function for  more details.\n",
      "Prediction: batata | Confidence: 100.00%.\n",
      "\n",
      "\n",
      "Image : batata2.jpg\n",
      "WARNING:tensorflow:6 out of the last 6 calls to <function Model.make_predict_function.<locals>.predict_function at 0x0000027A293B7D90> triggered tf.function retracing. Tracing is expensive and the excessive number of tracings could be due to (1) creating @tf.function repeatedly in a loop, (2) passing tensors with different shapes, (3) passing Python objects instead of tensors. For (1), please define your @tf.function outside of the loop. For (2), @tf.function has reduce_retracing=True option that can avoid unnecessary retracing. For (3), please refer to https://www.tensorflow.org/guide/function#controlling_retracing and https://www.tensorflow.org/api_docs/python/tf/function for  more details.\n",
      "Prediction: batata | Confidence: 99.98%.\n",
      "\n",
      "\n",
      "Image : cebola.jpg\n",
      "Prediction: cebola | Confidence: 99.98%.\n",
      "\n",
      "\n",
      "Image : cebola1.jpg\n",
      "Prediction: cebola | Confidence: 99.03%.\n",
      "\n",
      "\n",
      "Image : cebola2.jpg\n",
      "Prediction: cebola | Confidence: 99.98%.\n",
      "\n",
      "\n",
      "Image : laranja-pera.jpg\n",
      "Prediction: laranja | Confidence: 99.92%.\n",
      "\n",
      "\n",
      "Image : laranja-pera1.jpg\n",
      "Prediction: laranja | Confidence: 100.00%.\n",
      "\n",
      "\n",
      "Image : laranja-pera2.jpg\n",
      "Prediction: laranja | Confidence: 100.00%.\n",
      "\n",
      "\n",
      "Image : maca.jpg\n",
      "Prediction: maca | Confidence: 100.00%.\n",
      "\n",
      "\n",
      "Image : maca1.jpg\n",
      "Prediction: maca | Confidence: 100.00%.\n",
      "\n",
      "\n",
      "Image : maca2.jpg\n",
      "Prediction: maca | Confidence: 99.58%.\n",
      "\n",
      "\n",
      "Image : pera.jpg\n",
      "Prediction: pera | Confidence: 100.00%.\n",
      "\n",
      "\n",
      "Image : pera1.jpg\n"
     ]
    },
    {
     "ename": "ResourceExhaustedError",
     "evalue": "{{function_node __wrapped__AddV2_device_/job:localhost/replica:0/task:0/device:GPU:0}} failed to allocate memory [Op:AddV2]",
     "output_type": "error",
     "traceback": [
      "\u001b[1;31m---------------------------------------------------------------------------\u001b[0m",
      "\u001b[1;31mResourceExhaustedError\u001b[0m                    Traceback (most recent call last)",
      "Cell \u001b[1;32mIn[7], line 1\u001b[0m\n\u001b[1;32m----> 1\u001b[0m predict_dir_files(test_path, model_path)\n",
      "Cell \u001b[1;32mIn[3], line 10\u001b[0m, in \u001b[0;36mpredict_dir_files\u001b[1;34m(test_path, model_path)\u001b[0m\n\u001b[0;32m      8\u001b[0m     image_path \u001b[39m=\u001b[39m os\u001b[39m.\u001b[39mpath\u001b[39m.\u001b[39mjoin(test_path, image)\n\u001b[0;32m      9\u001b[0m     \u001b[39mprint\u001b[39m(\u001b[39m\"\u001b[39m\u001b[39m\\n\u001b[39;00m\u001b[39mImage :\u001b[39m\u001b[39m\"\u001b[39m,image)\n\u001b[1;32m---> 10\u001b[0m     predict_image_class(image_path, model_path, class_names)\n\u001b[0;32m     12\u001b[0m \u001b[39mreturn\u001b[39;00m\n",
      "Cell \u001b[1;32mIn[2], line 2\u001b[0m, in \u001b[0;36mpredict_image_class\u001b[1;34m(image_path, model_path, class_names)\u001b[0m\n\u001b[0;32m      1\u001b[0m \u001b[39mdef\u001b[39;00m \u001b[39mpredict_image_class\u001b[39m(image_path, model_path, class_names):\n\u001b[1;32m----> 2\u001b[0m     model \u001b[39m=\u001b[39m tf\u001b[39m.\u001b[39;49mkeras\u001b[39m.\u001b[39;49mmodels\u001b[39m.\u001b[39;49mload_model(model_path)\n\u001b[0;32m      4\u001b[0m     input_shape \u001b[39m=\u001b[39m model\u001b[39m.\u001b[39mlayers[\u001b[39m0\u001b[39m]\u001b[39m.\u001b[39minput_shape\n\u001b[0;32m      5\u001b[0m     input_shape \u001b[39m=\u001b[39m input_shape[\u001b[39m1\u001b[39m:\u001b[39m3\u001b[39m]\n",
      "File \u001b[1;32md:\\anaconda3\\lib\\site-packages\\keras\\utils\\traceback_utils.py:70\u001b[0m, in \u001b[0;36mfilter_traceback.<locals>.error_handler\u001b[1;34m(*args, **kwargs)\u001b[0m\n\u001b[0;32m     67\u001b[0m     filtered_tb \u001b[39m=\u001b[39m _process_traceback_frames(e\u001b[39m.\u001b[39m__traceback__)\n\u001b[0;32m     68\u001b[0m     \u001b[39m# To get the full stack trace, call:\u001b[39;00m\n\u001b[0;32m     69\u001b[0m     \u001b[39m# `tf.debugging.disable_traceback_filtering()`\u001b[39;00m\n\u001b[1;32m---> 70\u001b[0m     \u001b[39mraise\u001b[39;00m e\u001b[39m.\u001b[39mwith_traceback(filtered_tb) \u001b[39mfrom\u001b[39;00m \u001b[39mNone\u001b[39m\n\u001b[0;32m     71\u001b[0m \u001b[39mfinally\u001b[39;00m:\n\u001b[0;32m     72\u001b[0m     \u001b[39mdel\u001b[39;00m filtered_tb\n",
      "File \u001b[1;32md:\\anaconda3\\lib\\site-packages\\keras\\backend.py:2142\u001b[0m, in \u001b[0;36mRandomGenerator.truncated_normal\u001b[1;34m(self, shape, mean, stddev, dtype, nonce)\u001b[0m\n\u001b[0;32m   2140\u001b[0m     \u001b[39mif\u001b[39;00m nonce:\n\u001b[0;32m   2141\u001b[0m         seed \u001b[39m=\u001b[39m tf\u001b[39m.\u001b[39mrandom\u001b[39m.\u001b[39mexperimental\u001b[39m.\u001b[39mstateless_fold_in(seed, nonce)\n\u001b[1;32m-> 2142\u001b[0m     \u001b[39mreturn\u001b[39;00m tf\u001b[39m.\u001b[39;49mrandom\u001b[39m.\u001b[39;49mstateless_truncated_normal(\n\u001b[0;32m   2143\u001b[0m         shape\u001b[39m=\u001b[39;49mshape, mean\u001b[39m=\u001b[39;49mmean, stddev\u001b[39m=\u001b[39;49mstddev, dtype\u001b[39m=\u001b[39;49mdtype, seed\u001b[39m=\u001b[39;49mseed\n\u001b[0;32m   2144\u001b[0m     )\n\u001b[0;32m   2145\u001b[0m \u001b[39mreturn\u001b[39;00m tf\u001b[39m.\u001b[39mrandom\u001b[39m.\u001b[39mtruncated_normal(\n\u001b[0;32m   2146\u001b[0m     shape\u001b[39m=\u001b[39mshape,\n\u001b[0;32m   2147\u001b[0m     mean\u001b[39m=\u001b[39mmean,\n\u001b[1;32m   (...)\u001b[0m\n\u001b[0;32m   2150\u001b[0m     seed\u001b[39m=\u001b[39m\u001b[39mself\u001b[39m\u001b[39m.\u001b[39mmake_legacy_seed(),\n\u001b[0;32m   2151\u001b[0m )\n",
      "\u001b[1;31mResourceExhaustedError\u001b[0m: {{function_node __wrapped__AddV2_device_/job:localhost/replica:0/task:0/device:GPU:0}} failed to allocate memory [Op:AddV2]"
     ]
    }
   ],
   "source": [
    "predict_dir_files(test_path, model_path)"
   ]
  },
  {
   "cell_type": "code",
   "execution_count": 18,
   "metadata": {},
   "outputs": [
    {
     "name": "stdout",
     "output_type": "stream",
     "text": [
      "\n",
      "Image : pera1.jpg\n",
      "Prediction: pera | Confidence: 97.97%.\n",
      "\n",
      "\n",
      "Image : pera2.jpg\n",
      "Prediction: pera | Confidence: 100.00%.\n",
      "\n",
      "\n",
      "Image : tomate.jpg\n",
      "Prediction: tomate | Confidence: 100.00%.\n",
      "\n",
      "\n",
      "Image : tomate1.jpg\n",
      "WARNING:tensorflow:5 out of the last 8 calls to <function Model.make_predict_function.<locals>.predict_function at 0x0000023FE8BABD90> triggered tf.function retracing. Tracing is expensive and the excessive number of tracings could be due to (1) creating @tf.function repeatedly in a loop, (2) passing tensors with different shapes, (3) passing Python objects instead of tensors. For (1), please define your @tf.function outside of the loop. For (2), @tf.function has reduce_retracing=True option that can avoid unnecessary retracing. For (3), please refer to https://www.tensorflow.org/guide/function#controlling_retracing and https://www.tensorflow.org/api_docs/python/tf/function for  more details.\n",
      "Prediction: tomate | Confidence: 100.00%.\n",
      "\n",
      "\n",
      "Image : tomate2.jpg\n",
      "WARNING:tensorflow:6 out of the last 9 calls to <function Model.make_predict_function.<locals>.predict_function at 0x000002403106FD90> triggered tf.function retracing. Tracing is expensive and the excessive number of tracings could be due to (1) creating @tf.function repeatedly in a loop, (2) passing tensors with different shapes, (3) passing Python objects instead of tensors. For (1), please define your @tf.function outside of the loop. For (2), @tf.function has reduce_retracing=True option that can avoid unnecessary retracing. For (3), please refer to https://www.tensorflow.org/guide/function#controlling_retracing and https://www.tensorflow.org/api_docs/python/tf/function for  more details.\n",
      "Prediction: tomate | Confidence: 100.00%.\n",
      "\n"
     ]
    }
   ],
   "source": [
    "predict_dir_files(test_path, model_path)"
   ]
  },
  {
   "attachments": {},
   "cell_type": "markdown",
   "metadata": {},
   "source": [
    "# Teste de performance"
   ]
  },
  {
   "cell_type": "code",
   "execution_count": 4,
   "metadata": {},
   "outputs": [],
   "source": [
    "model = tf.keras.models.load_model(model_path)"
   ]
  },
  {
   "cell_type": "code",
   "execution_count": 19,
   "metadata": {},
   "outputs": [],
   "source": [
    "test_image = \"C:\\\\Users\\\\marce\\\\OneDrive\\\\Documentos\\\\Code\\\\Dataset\\\\Test\\\\pera1.jpg\"\n",
    "\n",
    "class_names = ['banana','batata','cebola','laranja','maca','nenhum','pera','tomate']\n",
    "\n",
    "input_shape = model.layers[0].input_shape\n",
    "input_shape = input_shape[1:3]\n",
    "# input_shape = input_shape[0][1:3]\n",
    "\n",
    "img = utils.load_img(test_image, target_size=input_shape)\n",
    "img_array = utils.img_to_array(img)\n",
    "img_array = np.expand_dims(img_array, axis=0)"
   ]
  },
  {
   "cell_type": "code",
   "execution_count": 20,
   "metadata": {},
   "outputs": [
    {
     "data": {
      "text/plain": [
       "array([[9.8581322e-06, 2.5655158e-06, 1.2130919e-06, 2.0353662e-07,\n",
       "        2.0294880e-02, 2.1480096e-06, 9.7968906e-01, 3.4182762e-08]],\n",
       "      dtype=float32)"
      ]
     },
     "execution_count": 20,
     "metadata": {},
     "output_type": "execute_result"
    }
   ],
   "source": [
    "prediction = model.predict(img_array, verbose=0)\n",
    "prediction"
   ]
  },
  {
   "cell_type": "code",
   "execution_count": 12,
   "metadata": {},
   "outputs": [
    {
     "name": "stdout",
     "output_type": "stream",
     "text": [
      "Prediction: pera | Confidence: 100.00%.\n",
      "\n"
     ]
    }
   ],
   "source": [
    "score = prediction[0]\n",
    "predicted_class = class_names[np.argmax(score)]\n",
    "confidence = 100 * np.max(score)\n",
    "\n",
    "print(f\"Prediction: {predicted_class} | Confidence: {confidence:.2f}%.\\n\")"
   ]
  },
  {
   "cell_type": "code",
   "execution_count": null,
   "metadata": {},
   "outputs": [],
   "source": []
  }
 ],
 "metadata": {
  "kernelspec": {
   "display_name": "base",
   "language": "python",
   "name": "python3"
  },
  "language_info": {
   "codemirror_mode": {
    "name": "ipython",
    "version": 3
   },
   "file_extension": ".py",
   "mimetype": "text/x-python",
   "name": "python",
   "nbconvert_exporter": "python",
   "pygments_lexer": "ipython3",
   "version": "3.10.9"
  },
  "orig_nbformat": 4
 },
 "nbformat": 4,
 "nbformat_minor": 2
}
